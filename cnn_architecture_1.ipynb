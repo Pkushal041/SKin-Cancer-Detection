{
 "cells": [
  {
   "cell_type": "code",
   "execution_count": 8,
   "metadata": {},
   "outputs": [
    {
     "name": "stdout",
     "output_type": "stream",
     "text": [
      "Index(['lesion_id', 'image_id', 'dx', 'dx_type', 'age', 'sex', 'localization'], dtype='object')\n",
      "0\n"
     ]
    }
   ],
   "source": [
    "import pandas as pd\n",
    "df = pd.read_csv('HAM10000_metadata.csv')\n",
    "print(df.columns)\n",
    "print(df['dx'].isna().sum())"
   ]
  },
  {
   "cell_type": "code",
   "execution_count": 21,
   "metadata": {},
   "outputs": [
    {
     "name": "stdout",
     "output_type": "stream",
     "text": [
      "7\n",
      "Found 6410 validated image filenames belonging to 7 classes.\n",
      "Found 6410 validated image filenames belonging to 7 classes.\n",
      "Epoch 1/20\n",
      "201/201 [==============================] - 619s 3s/step - loss: 1.0971 - accuracy: 0.6688 - val_loss: 0.9518 - val_accuracy: 0.6819\n",
      "Epoch 2/20\n",
      "201/201 [==============================] - 570s 3s/step - loss: 0.9913 - accuracy: 0.6764 - val_loss: 0.9126 - val_accuracy: 0.6925\n",
      "Epoch 3/20\n",
      "201/201 [==============================] - 547s 3s/step - loss: 0.9490 - accuracy: 0.6867 - val_loss: 0.8723 - val_accuracy: 0.7014\n",
      "Epoch 4/20\n",
      "201/201 [==============================] - 591s 3s/step - loss: 0.9079 - accuracy: 0.7006 - val_loss: 0.8056 - val_accuracy: 0.7225\n",
      "Epoch 5/20\n",
      "201/201 [==============================] - 545s 3s/step - loss: 0.8419 - accuracy: 0.7170 - val_loss: 0.6791 - val_accuracy: 0.7844\n",
      "Epoch 6/20\n",
      "201/201 [==============================] - 521s 3s/step - loss: 0.7751 - accuracy: 0.7415 - val_loss: 0.6003 - val_accuracy: 0.7998\n",
      "Epoch 7/20\n",
      "201/201 [==============================] - 557s 3s/step - loss: 0.6946 - accuracy: 0.7666 - val_loss: 0.4708 - val_accuracy: 0.8535\n",
      "Epoch 8/20\n",
      "201/201 [==============================] - 548s 3s/step - loss: 0.6162 - accuracy: 0.7911 - val_loss: 0.3871 - val_accuracy: 0.8822\n",
      "Epoch 9/20\n",
      "201/201 [==============================] - 539s 3s/step - loss: 0.5404 - accuracy: 0.8184 - val_loss: 0.2999 - val_accuracy: 0.9097\n",
      "Epoch 10/20\n",
      "201/201 [==============================] - 562s 3s/step - loss: 0.4564 - accuracy: 0.8470 - val_loss: 0.2803 - val_accuracy: 0.9179\n",
      "Epoch 11/20\n",
      "201/201 [==============================] - 543s 3s/step - loss: 0.4162 - accuracy: 0.8555 - val_loss: 0.2015 - val_accuracy: 0.9401\n",
      "Epoch 12/20\n",
      "201/201 [==============================] - 531s 3s/step - loss: 0.3636 - accuracy: 0.8718 - val_loss: 0.1761 - val_accuracy: 0.9426\n",
      "Epoch 13/20\n",
      "201/201 [==============================] - 507s 3s/step - loss: 0.3313 - accuracy: 0.8844 - val_loss: 0.1467 - val_accuracy: 0.9544\n",
      "Epoch 14/20\n",
      "201/201 [==============================] - 501s 2s/step - loss: 0.2930 - accuracy: 0.8991 - val_loss: 0.1105 - val_accuracy: 0.9629\n",
      "Epoch 15/20\n",
      "201/201 [==============================] - 514s 3s/step - loss: 0.2628 - accuracy: 0.9119 - val_loss: 0.0964 - val_accuracy: 0.9780\n",
      "Epoch 16/20\n",
      "201/201 [==============================] - 539s 3s/step - loss: 0.2370 - accuracy: 0.9197 - val_loss: 0.0727 - val_accuracy: 0.9761\n",
      "Epoch 17/20\n",
      "201/201 [==============================] - 538s 3s/step - loss: 0.2292 - accuracy: 0.9200 - val_loss: 0.0761 - val_accuracy: 0.9704\n",
      "Epoch 18/20\n",
      "201/201 [==============================] - 503s 3s/step - loss: 0.2134 - accuracy: 0.9240 - val_loss: 0.0592 - val_accuracy: 0.9892\n",
      "Epoch 19/20\n",
      "201/201 [==============================] - 573s 3s/step - loss: 0.1868 - accuracy: 0.9368 - val_loss: 0.0506 - val_accuracy: 0.9883\n",
      "Epoch 20/20\n",
      "201/201 [==============================] - 508s 3s/step - loss: 0.1873 - accuracy: 0.9359 - val_loss: 0.0424 - val_accuracy: 0.9880\n"
     ]
    }
   ],
   "source": [
    "import pandas as pd\n",
    "import numpy as np\n",
    "import tensorflow as tf\n",
    "from tensorflow.keras.preprocessing.image import ImageDataGenerator\n",
    "from tensorflow.keras.models import Sequential\n",
    "from tensorflow.keras.layers import Dense, Conv2D, Flatten, MaxPooling2D, Dropout\n",
    "from tensorflow.keras.callbacks import EarlyStopping\n",
    "\n",
    "# Load data\n",
    "data_path = 'HAM10000_metadata.csv'\n",
    "image_dir = 'segmented_images/'\n",
    "\n",
    "df = pd.read_csv(data_path)\n",
    "df['image_path'] = image_dir + df['image_id'] + '.jpg'\n",
    "\n",
    "# Split data into training and validation sets\n",
    "train_df = df[df['dx'].str.strip().isin(['nv', 'mel', 'bkl', 'df', 'vasc', 'bcc', 'akiec'])].sample(frac=0.8, random_state=42)\n",
    "val_df = df[df['dx'].str.strip().isin(['nv', 'mel', 'bkl', 'df', 'vasc', 'bcc', 'akiec'])].sample(frac=0.8, random_state=42)\n",
    "\n",
    "\n",
    "# Define image data generators\n",
    "datagen = ImageDataGenerator(rescale=1./255,\n",
    "                             validation_split=0.2)\n",
    "\n",
    "num_classes = len(train_df['dx'].unique())\n",
    "print(len(val_df['dx'].unique()))\n",
    "train_generator = datagen.flow_from_dataframe(\n",
    "    dataframe=train_df,\n",
    "    x_col='image_path',\n",
    "    y_col='dx',\n",
    "    target_size=(224, 224),\n",
    "    batch_size=32,\n",
    "    class_mode='sparse',\n",
    "    subset='training',\n",
    "    num_classes=num_classes)\n",
    "\n",
    "val_generator = datagen.flow_from_dataframe(\n",
    "    dataframe=val_df,\n",
    "    x_col='image_path',\n",
    "    y_col='dx',\n",
    "    target_size=(224, 224),\n",
    "    batch_size=32,\n",
    "    class_mode='sparse',\n",
    "    subset='training',\n",
    "    num_classes=num_classes)\n",
    "\n",
    "# Define model architecture\n",
    "model = Sequential([\n",
    "    Conv2D(32, (3, 3), activation='relu', input_shape=(224, 224, 3)),\n",
    "    MaxPooling2D((2, 2)),\n",
    "    Conv2D(64, (3, 3), activation='relu'),\n",
    "    MaxPooling2D((2, 2)),\n",
    "    Conv2D(128, (3, 3), activation='relu'),\n",
    "    MaxPooling2D((2, 2)),\n",
    "    Conv2D(256, (3, 3), activation='relu'),\n",
    "    MaxPooling2D((2, 2)),\n",
    "    Flatten(),\n",
    "    Dropout(0.5),\n",
    "    Dense(512, activation='relu'),\n",
    "    Dropout(0.5),\n",
    "    Dense(7, activation='softmax')\n",
    "])\n",
    "\n",
    "model.compile(optimizer='adam',\n",
    "              loss='sparse_categorical_crossentropy',\n",
    "              metrics=['accuracy'])\n",
    "\n",
    "# Train model\n",
    "early_stop = EarlyStopping(monitor='val_loss', patience=4, restore_best_weights=True)\n",
    "\n",
    "history = model.fit(train_generator,\n",
    "                    validation_data=val_generator,\n",
    "                    epochs=20,\n",
    "                    callbacks=[early_stop])\n"
   ]
  },
  {
   "attachments": {},
   "cell_type": "markdown",
   "metadata": {},
   "source": [
    "Saving the model"
   ]
  },
  {
   "cell_type": "code",
   "execution_count": 23,
   "metadata": {},
   "outputs": [],
   "source": [
    "\n"
   ]
  },
  {
   "attachments": {},
   "cell_type": "markdown",
   "metadata": {},
   "source": [
    "uploading the image and pridicting"
   ]
  },
  {
   "cell_type": "code",
   "execution_count": 39,
   "metadata": {},
   "outputs": [
    {
     "name": "stdout",
     "output_type": "stream",
     "text": [
      "1/1 [==============================] - 0s 66ms/step\n",
      "bcc\n"
     ]
    }
   ],
   "source": [
    "import cv2\n",
    "import numpy as np\n",
    "\n",
    "# Load the image\n",
    "img = cv2.imread('ISIC_0024306.jpg')\n",
    "\n",
    "# Preprocess the image (resize and rescale pixel values)\n",
    "img = cv2.resize(img, (224, 224))\n",
    "img = img.astype('float32') / 255.0\n",
    "\n",
    "# Add a batch dimension to match the shape expected by the model\n",
    "img = np.expand_dims(img, axis=0)\n",
    "\n",
    "# Make predictions using the trained model\n",
    "predictions = model.predict(img)\n",
    "\n",
    "# Get the class with the highest probability\n",
    "predicted_class = np.argmax(predictions, axis=-1)\n",
    "\n",
    "# Map the class index to class name\n",
    "class_names = ['nv', 'mel', 'bkl', 'df', 'vasc', 'bcc', 'akiec', 'other']\n",
    "predicted_class_name = class_names[predicted_class[0]]\n",
    "\n",
    "# Print the predicted class name\n",
    "print(predicted_class_name)\n"
   ]
  },
  {
   "attachments": {},
   "cell_type": "markdown",
   "metadata": {},
   "source": [
    "upload and predicting part 2"
   ]
  },
  {
   "cell_type": "code",
   "execution_count": 40,
   "metadata": {},
   "outputs": [
    {
     "name": "stdout",
     "output_type": "stream",
     "text": [
      "1/1 [==============================] - 0s 60ms/step\n",
      "nv: 0.00%\n",
      "mel: 0.15%\n",
      "bkl: 0.21%\n",
      "df: 0.00%\n",
      "vasc: 5.32%\n",
      "bcc: 94.27%\n",
      "akiec: 0.06%\n"
     ]
    },
    {
     "ename": "IndexError",
     "evalue": "index 7 is out of bounds for axis 0 with size 7",
     "output_type": "error",
     "traceback": [
      "\u001b[1;31m---------------------------------------------------------------------------\u001b[0m",
      "\u001b[1;31mIndexError\u001b[0m                                Traceback (most recent call last)",
      "Cell \u001b[1;32mIn[40], line 26\u001b[0m\n\u001b[0;32m     24\u001b[0m \u001b[39m# Print the predicted class name and percentage for each class\u001b[39;00m\n\u001b[0;32m     25\u001b[0m \u001b[39mfor\u001b[39;00m i \u001b[39min\u001b[39;00m \u001b[39mrange\u001b[39m(\u001b[39mlen\u001b[39m(class_names)):\n\u001b[1;32m---> 26\u001b[0m     class_prob \u001b[39m=\u001b[39m predictions[\u001b[39m0\u001b[39;49m][i] \u001b[39m*\u001b[39m \u001b[39m100\u001b[39m\n\u001b[0;32m     27\u001b[0m     \u001b[39mprint\u001b[39m(\u001b[39mf\u001b[39m\u001b[39m\"\u001b[39m\u001b[39m{\u001b[39;00mclass_names[i]\u001b[39m}\u001b[39;00m\u001b[39m: \u001b[39m\u001b[39m{\u001b[39;00mclass_prob\u001b[39m:\u001b[39;00m\u001b[39m.2f\u001b[39m\u001b[39m}\u001b[39;00m\u001b[39m%\u001b[39m\u001b[39m\"\u001b[39m)\n",
      "\u001b[1;31mIndexError\u001b[0m: index 7 is out of bounds for axis 0 with size 7"
     ]
    }
   ],
   "source": [
    "import cv2\n",
    "import numpy as np\n",
    "\n",
    "# Load the image\n",
    "img = cv2.imread('ISIC_0024306.jpg')\n",
    "\n",
    "# Preprocess the image (resize and rescale pixel values)\n",
    "img = cv2.resize(img, (224, 224))\n",
    "img = img.astype('float32') / 255.0\n",
    "\n",
    "# Add a batch dimension to match the shape expected by the model\n",
    "img = np.expand_dims(img, axis=0)\n",
    "\n",
    "# Make predictions using the trained model\n",
    "predictions = model.predict(img)\n",
    "\n",
    "# Get the class with the highest probability\n",
    "predicted_class = np.argmax(predictions, axis=-1)\n",
    "\n",
    "# Map the class index to class name\n",
    "class_names = ['nv', 'mel', 'bkl', 'df', 'vasc', 'bcc', 'akiec', 'other']\n",
    "predicted_class_name = class_names[predicted_class[0]]\n",
    "\n",
    "# Print the predicted class name and percentage for each class\n",
    "for i in range(len(class_names)):\n",
    "    class_prob = predictions[0][i] * 100\n",
    "    print(f\"{class_names[i]}: {class_prob:.2f}%\")\n",
    "\n"
   ]
  },
  {
   "attachments": {},
   "cell_type": "markdown",
   "metadata": {},
   "source": [
    "upload and predict part 3 with bar chart"
   ]
  },
  {
   "cell_type": "code",
   "execution_count": 8,
   "metadata": {},
   "outputs": [
    {
     "name": "stdout",
     "output_type": "stream",
     "text": [
      " * Serving Flask app '__main__'\n",
      " * Debug mode: off\n"
     ]
    },
    {
     "name": "stderr",
     "output_type": "stream",
     "text": [
      "WARNING: This is a development server. Do not use it in a production deployment. Use a production WSGI server instead.\n",
      " * Running on http://127.0.0.1:5000\n",
      "Press CTRL+C to quit\n"
     ]
    }
   ],
   "source": [
    "import cv2\n",
    "import numpy as np\n",
    "import matplotlib.pyplot as plt\n",
    "from tensorflow.keras.models import load_model\n",
    "from flask import Flask\n",
    " \n",
    "# Flask constructor takes the name of\n",
    "# current module (__name__) as argument.\n",
    "app = Flask(__name__)\n",
    " \n",
    "# The route() function of the Flask class is a decorator,\n",
    "# which tells the application which URL should call\n",
    "# the associated function.\n",
    "@app.route('/')\n",
    "# ‘/’ URL is bound with hello_world() function.\n",
    "def hello_world():\n",
    "\n",
    "    # Load the image\n",
    "\n",
    "    return \"hhhh\"\n",
    "    img = cv2.imread(r'segmented_images\\ISIC_0024609.jpg')\n",
    "\n",
    "    # Preprocess the image (resize and rescale pixel values)\n",
    "    img = cv2.resize(img, (224, 224))\n",
    "    img = img.astype('float32') / 255.0\n",
    "\n",
    "    # Add a batch dimension to match the shape expected by the model\n",
    "    img = np.expand_dims(img, axis=0)\n",
    "\n",
    "    # Make predictions using the trained model\n",
    "    mod = load_model(\"model_classification.h5\")\n",
    "    predictions = mod.predict(img)\n",
    "    print(predictions)\n",
    "    # Get the class probabilities\n",
    "    class_probabilities = predictions[0]\n",
    "\n",
    "    # Map the class probabilities to class names\n",
    "    class_names = ['nv', 'mel', 'bkl', 'df', 'vasc', 'bcc', 'akiec']\n",
    "\n",
    "    # Print the class probabilities as percentages\n",
    "    for i, class_name in enumerate(class_names):\n",
    "        print(f\"{class_name}: {class_probabilities[i]*100:.2f}%\")\n",
    "\n",
    "    # Create a bar chart showing the class probabilities\n",
    "    colors = ['blue', 'orange', 'green', 'red', 'purple', 'brown', 'pink']\n",
    "    plt.bar(class_names, class_probabilities, color=colors)\n",
    "    plt.title(\"Class Probabilities\")\n",
    "    plt.xlabel(\"Class\")\n",
    "    plt.ylabel(\"Probability\")\n",
    "    plt.show()\n",
    "    \n",
    "app.run()\n"
   ]
  },
  {
   "cell_type": "code",
   "execution_count": 1,
   "metadata": {},
   "outputs": [
    {
     "name": "stdout",
     "output_type": "stream",
     "text": [
      "Note: you may need to restart the kernel to use updated packages.\n"
     ]
    },
    {
     "name": "stderr",
     "output_type": "stream",
     "text": [
      "\n",
      "[notice] A new release of pip available: 22.3.1 -> 23.0.1\n",
      "[notice] To update, run: C:\\Users\\hp\\AppData\\Local\\Microsoft\\WindowsApps\\PythonSoftwareFoundation.Python.3.10_qbz5n2kfra8p0\\python.exe -m pip install --upgrade pip\n"
     ]
    },
    {
     "name": "stdout",
     "output_type": "stream",
     "text": [
      "Requirement already satisfied: Flask in c:\\users\\hp\\appdata\\local\\packages\\pythonsoftwarefoundation.python.3.10_qbz5n2kfra8p0\\localcache\\local-packages\\python310\\site-packages (2.2.2)\n",
      "Requirement already satisfied: Werkzeug>=2.2.2 in c:\\users\\hp\\appdata\\local\\packages\\pythonsoftwarefoundation.python.3.10_qbz5n2kfra8p0\\localcache\\local-packages\\python310\\site-packages (from Flask) (2.2.2)\n",
      "Requirement already satisfied: Jinja2>=3.0 in c:\\users\\hp\\appdata\\local\\packages\\pythonsoftwarefoundation.python.3.10_qbz5n2kfra8p0\\localcache\\local-packages\\python310\\site-packages (from Flask) (3.1.2)\n",
      "Requirement already satisfied: click>=8.0 in c:\\users\\hp\\appdata\\local\\packages\\pythonsoftwarefoundation.python.3.10_qbz5n2kfra8p0\\localcache\\local-packages\\python310\\site-packages (from Flask) (8.1.3)\n",
      "Requirement already satisfied: itsdangerous>=2.0 in c:\\users\\hp\\appdata\\local\\packages\\pythonsoftwarefoundation.python.3.10_qbz5n2kfra8p0\\localcache\\local-packages\\python310\\site-packages (from Flask) (2.1.2)\n",
      "Requirement already satisfied: colorama in c:\\users\\hp\\appdata\\local\\packages\\pythonsoftwarefoundation.python.3.10_qbz5n2kfra8p0\\localcache\\local-packages\\python310\\site-packages (from click>=8.0->Flask) (0.4.6)\n",
      "Requirement already satisfied: MarkupSafe>=2.0 in c:\\users\\hp\\appdata\\local\\packages\\pythonsoftwarefoundation.python.3.10_qbz5n2kfra8p0\\localcache\\local-packages\\python310\\site-packages (from Jinja2>=3.0->Flask) (2.1.1)\n"
     ]
    }
   ],
   "source": [
    "pip install Flask\n"
   ]
  },
  {
   "cell_type": "code",
   "execution_count": 1,
   "metadata": {},
   "outputs": [
    {
     "name": "stdout",
     "output_type": "stream",
     "text": [
      "1/1 [==============================] - 1s 529ms/step\n",
      "[[1.5333416e-10 6.9725611e-06 8.2526909e-05 2.2517183e-04 3.3307909e-03\n",
      "  9.9635458e-01 1.6564062e-08]]\n",
      "nv: 0.00%\n",
      "mel: 0.00%\n",
      "bkl: 0.01%\n",
      "df: 0.02%\n",
      "vasc: 0.33%\n",
      "bcc: 99.64%\n",
      "akiec: 0.00%\n"
     ]
    },
    {
     "data": {
      "image/png": "[encoded data removed]",
      "text/plain": [
       "<Figure size 640x480 with 1 Axes>"
      ]
     },
     "metadata": {},
     "output_type": "display_data"
    }
   ],
   "source": [
    "import cv2\n",
    "import numpy as np\n",
    "import matplotlib.pyplot as plt\n",
    "from tensorflow.keras.models import load_model\n",
    "\n",
    "# ‘/’ URL is bound with hello_world() function.\n",
    "\n",
    "\n",
    "# Load the image\n",
    "img = cv2.imread(r'segmented_images\\ISIC_0024609.jpg')\n",
    "\n",
    "# Preprocess the image (resize and rescale pixel values)\n",
    "img = cv2.resize(img, (224, 224))\n",
    "img = img.astype('float32') / 255.0\n",
    "\n",
    "# Add a batch dimension to match the shape expected by the model\n",
    "img = np.expand_dims(img, axis=0)\n",
    "\n",
    "# Make predictions using the trained model\n",
    "mod = load_model(\"model_classification.h5\")\n",
    "predictions = mod.predict(img)\n",
    "print(predictions)\n",
    "# Get the class probabilities\n",
    "class_probabilities = predictions[0]\n",
    "\n",
    "# Map the class probabilities to class names\n",
    "class_names = ['nv', 'mel', 'bkl', 'df', 'vasc', 'bcc', 'akiec']\n",
    "\n",
    "# Print the class probabilities as percentages\n",
    "for i, class_name in enumerate(class_names):\n",
    "    print(f\"{class_name}: {class_probabilities[i]*100:.2f}%\")\n",
    "\n",
    "# Create a bar chart showing the class probabilities\n",
    "colors = ['blue', 'orange', 'green', 'red', 'purple', 'brown', 'pink']\n",
    "plt.bar(class_names, class_probabilities, color=colors)\n",
    "plt.title(\"Class Probabilities\")\n",
    "plt.xlabel(\"Class\")\n",
    "plt.ylabel(\"Probability\")\n",
    "plt.show()\n"
   ]
  }
 ],
 "metadata": {
  "kernelspec": {
   "display_name": "Python 3",
   "language": "python",
   "name": "python3"
  },
  "language_info": {
   "codemirror_mode": {
    "name": "ipython",
    "version": 3
   },
   "file_extension": ".py",
   "mimetype": "text/x-python",
   "name": "python",
   "nbconvert_exporter": "python",
   "pygments_lexer": "ipython3",
   "version": "3.11.2"
  },
  "orig_nbformat": 4
 },
 "nbformat": 4,
 "nbformat_minor": 2
}
